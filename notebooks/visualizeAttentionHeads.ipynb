{
 "cells": [
  {
   "cell_type": "markdown",
   "id": "4871585e",
   "metadata": {},
   "source": [
    "## Imports"
   ]
  },
  {
   "cell_type": "code",
   "execution_count": 34,
   "id": "15c34d8a",
   "metadata": {},
   "outputs": [],
   "source": [
    "# LIBRARIES\n",
    "from argparse import ArgumentParser\n",
    "import os\n",
    "import sys\n",
    "from pytorch_lightning.callbacks import ModelCheckpoint\n",
    "from pytorch_lightning.metrics import Accuracy\n",
    "\n",
    "# Pytorch modules\n",
    "import torch\n",
    "import torch.nn\n",
    "import torchvision.models as models\n",
    "from torch.nn import functional as F\n",
    "from torch import nn\n",
    "from torch.optim import Adam\n",
    "import torchvision\n",
    "from torch.utils.data import DataLoader, random_split\n",
    "from torchvision import transforms\n",
    "\n",
    "\n",
    "# Pytorch-Lightning\n",
    "from pytorch_lightning import LightningDataModule, LightningModule, Trainer\n",
    "import pytorch_lightning as pl\n",
    "import torchmetrics\n",
    "from torchmetrics import Accuracy\n",
    "from vit_pytorch import ViT\n",
    "from transformers import ViTConfig\n",
    "\n",
    "\n",
    "# Extras\n",
    "from argparse import Namespace\n",
    "from torchsummary import summary\n",
    "\n",
    "# Image\n",
    "import PIL\n",
    "from PIL import Image\n",
    "\n",
    "# Visualization\n",
    "import matplotlib as plt\n",
    "import matplotlib.pyplot as plt\n",
    "from matplotlib import pyplot as plt\n",
    "\n",
    "# Einops and Numpy\n",
    "from einops import rearrange, repeat, reduce\n",
    "from einops.layers.torch import Rearrange\n",
    "import numpy as np\n",
    "\n",
    "# Plots\n",
    "import os\n",
    "import matplotlib.pyplot as plt\n",
    "import numpy as np\n",
    "import PIL\n",
    "\n",
    "# Transforms\n",
    "import torch\n",
    "import torch.nn.functional as F\n",
    "import torchvision\n",
    "import torchvision.transforms as T\n",
    "\n",
    "# Attention-weight wrapper\n",
    "from vit_pytorch.vit import ViT\n",
    "from vit_pytorch.recorder import Recorder\n",
    "\n",
    "# probing ViTs\n",
    "import zipfile\n",
    "from io import BytesIO\n",
    "\n",
    "import cv2\n",
    "import gdown\n",
    "import matplotlib.pyplot as plt\n",
    "import numpy as np\n",
    "import requests\n",
    "import tensorflow as tf\n",
    "import tensorflow_hub as hub\n",
    "from PIL import Image\n",
    "from sklearn.preprocessing import MinMaxScaler\n",
    "from tensorflow import keras\n",
    "\n",
    "\n",
    "\n",
    "root_dir = '/home/lpandey/'\n",
    "sys.path.append(root_dir)\n",
    "from models.vit_contrastive import LitClassifier"
   ]
  },
  {
   "cell_type": "markdown",
   "id": "24e4c6ae",
   "metadata": {},
   "source": [
    "## Set Model Parameters"
   ]
  },
  {
   "cell_type": "code",
   "execution_count": 35,
   "id": "b0f1b730",
   "metadata": {},
   "outputs": [],
   "source": [
    "RESOLUTION = 64 # image resolution on which the model was trained\n",
    "PATCH_SIZE = 8 # patch size used while training the model"
   ]
  },
  {
   "cell_type": "markdown",
   "id": "0fd4a97c",
   "metadata": {},
   "source": [
    "## Load Model"
   ]
  },
  {
   "cell_type": "code",
   "execution_count": 37,
   "id": "7a39a265",
   "metadata": {
    "scrolled": true
   },
   "outputs": [
    {
     "data": {
      "text/plain": [
       "LitClassifier(\n",
       "  (backbone): Backbone(\n",
       "    (model): VisionTransformer(\n",
       "      (model): ViT(\n",
       "        (to_patch_embedding): Sequential(\n",
       "          (0): Rearrange('b c (h p1) (w p2) -> b (h w) (p1 p2 c)', p1=8, p2=8)\n",
       "          (1): LayerNorm((192,), eps=1e-05, elementwise_affine=True)\n",
       "          (2): Linear(in_features=192, out_features=768, bias=True)\n",
       "          (3): LayerNorm((768,), eps=1e-05, elementwise_affine=True)\n",
       "        )\n",
       "        (dropout): Dropout(p=0.0, inplace=False)\n",
       "        (transformer): Transformer(\n",
       "          (norm): LayerNorm((768,), eps=1e-05, elementwise_affine=True)\n",
       "          (layers): ModuleList(\n",
       "            (0): ModuleList(\n",
       "              (0): Attention(\n",
       "                (norm): LayerNorm((768,), eps=1e-05, elementwise_affine=True)\n",
       "                (attend): Softmax(dim=-1)\n",
       "                (dropout): Dropout(p=0.0, inplace=False)\n",
       "                (to_qkv): Linear(in_features=768, out_features=576, bias=False)\n",
       "                (to_out): Sequential(\n",
       "                  (0): Linear(in_features=192, out_features=768, bias=True)\n",
       "                  (1): Dropout(p=0.0, inplace=False)\n",
       "                )\n",
       "              )\n",
       "              (1): FeedForward(\n",
       "                (net): Sequential(\n",
       "                  (0): LayerNorm((768,), eps=1e-05, elementwise_affine=True)\n",
       "                  (1): Linear(in_features=768, out_features=3072, bias=True)\n",
       "                  (2): GELU(approximate=none)\n",
       "                  (3): Dropout(p=0.0, inplace=False)\n",
       "                  (4): Linear(in_features=3072, out_features=768, bias=True)\n",
       "                  (5): Dropout(p=0.0, inplace=False)\n",
       "                )\n",
       "              )\n",
       "            )\n",
       "            (1): ModuleList(\n",
       "              (0): Attention(\n",
       "                (norm): LayerNorm((768,), eps=1e-05, elementwise_affine=True)\n",
       "                (attend): Softmax(dim=-1)\n",
       "                (dropout): Dropout(p=0.0, inplace=False)\n",
       "                (to_qkv): Linear(in_features=768, out_features=576, bias=False)\n",
       "                (to_out): Sequential(\n",
       "                  (0): Linear(in_features=192, out_features=768, bias=True)\n",
       "                  (1): Dropout(p=0.0, inplace=False)\n",
       "                )\n",
       "              )\n",
       "              (1): FeedForward(\n",
       "                (net): Sequential(\n",
       "                  (0): LayerNorm((768,), eps=1e-05, elementwise_affine=True)\n",
       "                  (1): Linear(in_features=768, out_features=3072, bias=True)\n",
       "                  (2): GELU(approximate=none)\n",
       "                  (3): Dropout(p=0.0, inplace=False)\n",
       "                  (4): Linear(in_features=3072, out_features=768, bias=True)\n",
       "                  (5): Dropout(p=0.0, inplace=False)\n",
       "                )\n",
       "              )\n",
       "            )\n",
       "            (2): ModuleList(\n",
       "              (0): Attention(\n",
       "                (norm): LayerNorm((768,), eps=1e-05, elementwise_affine=True)\n",
       "                (attend): Softmax(dim=-1)\n",
       "                (dropout): Dropout(p=0.0, inplace=False)\n",
       "                (to_qkv): Linear(in_features=768, out_features=576, bias=False)\n",
       "                (to_out): Sequential(\n",
       "                  (0): Linear(in_features=192, out_features=768, bias=True)\n",
       "                  (1): Dropout(p=0.0, inplace=False)\n",
       "                )\n",
       "              )\n",
       "              (1): FeedForward(\n",
       "                (net): Sequential(\n",
       "                  (0): LayerNorm((768,), eps=1e-05, elementwise_affine=True)\n",
       "                  (1): Linear(in_features=768, out_features=3072, bias=True)\n",
       "                  (2): GELU(approximate=none)\n",
       "                  (3): Dropout(p=0.0, inplace=False)\n",
       "                  (4): Linear(in_features=3072, out_features=768, bias=True)\n",
       "                  (5): Dropout(p=0.0, inplace=False)\n",
       "                )\n",
       "              )\n",
       "            )\n",
       "          )\n",
       "        )\n",
       "        (to_latent): Identity()\n",
       "        (mlp_head): Linear(in_features=768, out_features=512, bias=True)\n",
       "      )\n",
       "    )\n",
       "  )\n",
       "  (projection): Projection(\n",
       "    (model): Sequential(\n",
       "      (0): Linear(in_features=512, out_features=512, bias=True)\n",
       "      (1): BatchNorm1d(512, eps=1e-05, momentum=0.1, affine=True, track_running_stats=True)\n",
       "      (2): ReLU()\n",
       "      (3): Linear(in_features=512, out_features=128, bias=False)\n",
       "    )\n",
       "  )\n",
       "  (val_acc): Accuracy()\n",
       ")"
      ]
     },
     "execution_count": 37,
     "metadata": {},
     "output_type": "execute_result"
    }
   ],
   "source": [
    "# load checkpoint\n",
    "ckpt = '/data/lpandey/LOGS/VIT_Time/RetinalWaves_Project/64X64_80k/ViT_3H/V1O1/version_0/checkpoints/epoch=99-step=14699.ckpt'\n",
    "# initialize model\n",
    "model = LitClassifier.load_from_checkpoint(ckpt)\n",
    "# freeze network\n",
    "for params in model.parameters():\n",
    "    params.requires_grad=False\n",
    "model.eval()"
   ]
  },
  {
   "cell_type": "markdown",
   "id": "24ea3846",
   "metadata": {},
   "source": [
    "## Load Test Image"
   ]
  },
  {
   "cell_type": "code",
   "execution_count": 38,
   "id": "08dcf387",
   "metadata": {},
   "outputs": [
    {
     "data": {
      "image/png": "[encoded data removed]",
      "text/plain": [
       "<PIL.PngImagePlugin.PngImageFile image mode=RGB size=64x64>"
      ]
     },
     "execution_count": 38,
     "metadata": {},
     "output_type": "execute_result"
    }
   ],
   "source": [
    "image_path = '/home/lpandey/data/paper1/Task8TestDataset_NoAug_11k_RGB/V1O1/output_0.png'\n",
    "img = Image.open(image_path)\n",
    "img"
   ]
  },
  {
   "cell_type": "markdown",
   "id": "9b93161a",
   "metadata": {},
   "source": [
    "## Image Transforms"
   ]
  },
  {
   "cell_type": "code",
   "execution_count": 39,
   "id": "bf4c812a",
   "metadata": {},
   "outputs": [],
   "source": [
    "# Define transforms for test\n",
    "IMG_SIZE = (64, 64)\n",
    "NORMALIZE_MEAN = (0.5, 0.5, 0.5)\n",
    "NORMALIZE_STD = (0.5, 0.5, 0.5)\n",
    "transforms = [\n",
    "              T.Resize(IMG_SIZE),\n",
    "              T.ToTensor(),\n",
    "              T.Normalize(NORMALIZE_MEAN, NORMALIZE_STD),\n",
    "              ]\n",
    "\n",
    "transforms = T.Compose(transforms)"
   ]
  },
  {
   "cell_type": "code",
   "execution_count": 40,
   "id": "a3ae7f40",
   "metadata": {},
   "outputs": [
    {
     "data": {
      "text/plain": [
       "torch.Size([1, 3, 64, 64])"
      ]
     },
     "execution_count": 40,
     "metadata": {},
     "output_type": "execute_result"
    }
   ],
   "source": [
    "img_tensor = transforms(img).unsqueeze(0)\n",
    "img_tensor.shape # [batch, channels, H, W]"
   ]
  },
  {
   "cell_type": "markdown",
   "id": "a0ea768e",
   "metadata": {},
   "source": [
    "## Extract Attention Weights\n",
    "\n",
    "We use an open-source wrapper to extract the weights from all the attention-heads in a single tensor.\n",
    "Finally, we slice the tensor to get individual attention weights."
   ]
  },
  {
   "cell_type": "code",
   "execution_count": 41,
   "id": "5dc83df2",
   "metadata": {
    "scrolled": true
   },
   "outputs": [
    {
     "data": {
      "text/plain": [
       "Recorder(\n",
       "  (vit): ViT(\n",
       "    (to_patch_embedding): Sequential(\n",
       "      (0): Rearrange('b c (h p1) (w p2) -> b (h w) (p1 p2 c)', p1=8, p2=8)\n",
       "      (1): LayerNorm((192,), eps=1e-05, elementwise_affine=True)\n",
       "      (2): Linear(in_features=192, out_features=768, bias=True)\n",
       "      (3): LayerNorm((768,), eps=1e-05, elementwise_affine=True)\n",
       "    )\n",
       "    (dropout): Dropout(p=0.0, inplace=False)\n",
       "    (transformer): Transformer(\n",
       "      (norm): LayerNorm((768,), eps=1e-05, elementwise_affine=True)\n",
       "      (layers): ModuleList(\n",
       "        (0): ModuleList(\n",
       "          (0): Attention(\n",
       "            (norm): LayerNorm((768,), eps=1e-05, elementwise_affine=True)\n",
       "            (attend): Softmax(dim=-1)\n",
       "            (dropout): Dropout(p=0.0, inplace=False)\n",
       "            (to_qkv): Linear(in_features=768, out_features=576, bias=False)\n",
       "            (to_out): Sequential(\n",
       "              (0): Linear(in_features=192, out_features=768, bias=True)\n",
       "              (1): Dropout(p=0.0, inplace=False)\n",
       "            )\n",
       "          )\n",
       "          (1): FeedForward(\n",
       "            (net): Sequential(\n",
       "              (0): LayerNorm((768,), eps=1e-05, elementwise_affine=True)\n",
       "              (1): Linear(in_features=768, out_features=3072, bias=True)\n",
       "              (2): GELU(approximate=none)\n",
       "              (3): Dropout(p=0.0, inplace=False)\n",
       "              (4): Linear(in_features=3072, out_features=768, bias=True)\n",
       "              (5): Dropout(p=0.0, inplace=False)\n",
       "            )\n",
       "          )\n",
       "        )\n",
       "        (1): ModuleList(\n",
       "          (0): Attention(\n",
       "            (norm): LayerNorm((768,), eps=1e-05, elementwise_affine=True)\n",
       "            (attend): Softmax(dim=-1)\n",
       "            (dropout): Dropout(p=0.0, inplace=False)\n",
       "            (to_qkv): Linear(in_features=768, out_features=576, bias=False)\n",
       "            (to_out): Sequential(\n",
       "              (0): Linear(in_features=192, out_features=768, bias=True)\n",
       "              (1): Dropout(p=0.0, inplace=False)\n",
       "            )\n",
       "          )\n",
       "          (1): FeedForward(\n",
       "            (net): Sequential(\n",
       "              (0): LayerNorm((768,), eps=1e-05, elementwise_affine=True)\n",
       "              (1): Linear(in_features=768, out_features=3072, bias=True)\n",
       "              (2): GELU(approximate=none)\n",
       "              (3): Dropout(p=0.0, inplace=False)\n",
       "              (4): Linear(in_features=3072, out_features=768, bias=True)\n",
       "              (5): Dropout(p=0.0, inplace=False)\n",
       "            )\n",
       "          )\n",
       "        )\n",
       "        (2): ModuleList(\n",
       "          (0): Attention(\n",
       "            (norm): LayerNorm((768,), eps=1e-05, elementwise_affine=True)\n",
       "            (attend): Softmax(dim=-1)\n",
       "            (dropout): Dropout(p=0.0, inplace=False)\n",
       "            (to_qkv): Linear(in_features=768, out_features=576, bias=False)\n",
       "            (to_out): Sequential(\n",
       "              (0): Linear(in_features=192, out_features=768, bias=True)\n",
       "              (1): Dropout(p=0.0, inplace=False)\n",
       "            )\n",
       "          )\n",
       "          (1): FeedForward(\n",
       "            (net): Sequential(\n",
       "              (0): LayerNorm((768,), eps=1e-05, elementwise_affine=True)\n",
       "              (1): Linear(in_features=768, out_features=3072, bias=True)\n",
       "              (2): GELU(approximate=none)\n",
       "              (3): Dropout(p=0.0, inplace=False)\n",
       "              (4): Linear(in_features=3072, out_features=768, bias=True)\n",
       "              (5): Dropout(p=0.0, inplace=False)\n",
       "            )\n",
       "          )\n",
       "        )\n",
       "      )\n",
       "    )\n",
       "    (to_latent): Identity()\n",
       "    (mlp_head): Linear(in_features=768, out_features=512, bias=True)\n",
       "  )\n",
       ")"
      ]
     },
     "execution_count": 41,
     "metadata": {},
     "output_type": "execute_result"
    }
   ],
   "source": [
    "# wrapper class\n",
    "v = Recorder(model.backbone.model.model)\n",
    "# the model is now wrapped inside Recorder\n",
    "v"
   ]
  },
  {
   "cell_type": "markdown",
   "id": "5b34d89a",
   "metadata": {},
   "source": [
    "## Pass Test Image to the Model"
   ]
  },
  {
   "cell_type": "code",
   "execution_count": 42,
   "id": "82718381",
   "metadata": {},
   "outputs": [],
   "source": [
    "preds, att_wt = v(img_tensor)\n",
    "# preds.shape - [1,512]\n",
    "# att_wt - tensor containing the attention weights for all the attention heads in the model"
   ]
  },
  {
   "cell_type": "code",
   "execution_count": 43,
   "id": "a610dad6",
   "metadata": {},
   "outputs": [
    {
     "name": "stdout",
     "output_type": "stream",
     "text": [
      "shape of attention weight tensor:  torch.Size([1, 3, 3, 65, 65])\n",
      "shape of preds:  torch.Size([1, 512])\n"
     ]
    }
   ],
   "source": [
    "print(\"shape of attention weight tensor: \", att_wt.shape) # (batch, layers, heads, patch+pos_emb, patch+pos_emb)\n",
    "print(\"shape of preds: \", preds.shape)"
   ]
  },
  {
   "cell_type": "markdown",
   "id": "8cf24cc7",
   "metadata": {},
   "source": [
    "## Extract Individual Attention Weight "
   ]
  },
  {
   "cell_type": "code",
   "execution_count": 44,
   "id": "c02ef24a",
   "metadata": {},
   "outputs": [
    {
     "data": {
      "text/plain": [
       "torch.Size([1, 3, 65, 65])"
      ]
     },
     "execution_count": 44,
     "metadata": {},
     "output_type": "execute_result"
    }
   ],
   "source": [
    "# Example for a 3 heads network!\n",
    "\n",
    "# FOR 3 ATTENTION HEADS\n",
    "w0 = att_wt[:,:,0,:,:] # head1\n",
    "w1 = att_wt[:,:,1,:,:] # head2\n",
    "w2 = att_wt[:,:,2,:,:] # head3\n",
    "\n",
    "w0.shape"
   ]
  },
  {
   "cell_type": "code",
   "execution_count": 45,
   "id": "1845d36e",
   "metadata": {},
   "outputs": [],
   "source": [
    "w_dict = {\n",
    "    'transformer_block_0_att':w0.detach().numpy(),\n",
    "    'transformer_block_1_att':w1.detach().numpy(),\n",
    "    'transformer_block_2_att':w2.detach().numpy()\n",
    "}"
   ]
  },
  {
   "cell_type": "markdown",
   "id": "ab61ca2d",
   "metadata": {},
   "source": [
    "## Helper Functions"
   ]
  },
  {
   "cell_type": "code",
   "execution_count": 46,
   "id": "0aa09392",
   "metadata": {},
   "outputs": [],
   "source": [
    "crop_layer = keras.layers.CenterCrop(RESOLUTION, RESOLUTION)\n",
    "norm_layer = keras.layers.Normalization(\n",
    "    mean=[0.485 * 255, 0.456 * 255, 0.406 * 255],\n",
    "    variance=[(0.229 * 255) ** 2, (0.224 * 255) ** 2, (0.225 * 255) ** 2],\n",
    ")\n",
    "rescale_layer = keras.layers.Rescaling(scale=1.0 / 127.5, offset=-1)\n",
    "\n",
    "\n",
    "def preprocess_image(image, model_type, size=RESOLUTION):\n",
    "    # Turn the image into a numpy array and add batch dim.\n",
    "    image = np.array(image)\n",
    "    image = tf.expand_dims(image, 0)\n",
    "\n",
    "    # If model type is vit rescale the image to [-1, 1].\n",
    "    if model_type == \"original_vit\":\n",
    "        image = rescale_layer(image)\n",
    "\n",
    "    # Resize the image using bicubic interpolation.\n",
    "    resize_size = int((256 / 224) * size)\n",
    "    image = tf.image.resize(image, (resize_size, resize_size), method=\"bicubic\")\n",
    "\n",
    "    # Crop the image.\n",
    "    image = crop_layer(image)\n",
    "\n",
    "    # If model type is DeiT or DINO normalize the image.\n",
    "    if model_type != \"original_vit\":\n",
    "        image = norm_layer(image)\n",
    "\n",
    "    return image.numpy()\n",
    "\n",
    "\n",
    "def load_image_from_url(url, model_type):\n",
    "    # Credit: Willi Gierke\n",
    "    #response = requests.get(url)\n",
    "    image = Image.open(url)\n",
    "    preprocessed_image = preprocess_image(image, model_type)\n",
    "    return image, preprocessed_image\n"
   ]
  },
  {
   "cell_type": "code",
   "execution_count": 47,
   "id": "31c34e08",
   "metadata": {},
   "outputs": [
    {
     "name": "stdout",
     "output_type": "stream",
     "text": [
      "Num Heads: 3.\n"
     ]
    },
    {
     "data": {
      "image/png": "[encoded data removed]",
      "text/plain": [
       "<Figure size 900x900 with 1 Axes>"
      ]
     },
     "metadata": {},
     "output_type": "display_data"
    }
   ],
   "source": [
    "# Build the mean distances for every Transformer block.\n",
    "mean_distances = {\n",
    "    f\"{name}_mean_dist\": compute_mean_attention_dist(\n",
    "        patch_size=PATCH_SIZE,\n",
    "        attention_weights=attention_weight,\n",
    "        model_type=\"original_vit\",\n",
    "    )\n",
    "    for name, attention_weight in w_dict.items()\n",
    "}\n",
    "\n",
    "# Get the number of heads from the mean distance output.\n",
    "num_heads = tf.shape(mean_distances[\"transformer_block_0_att_mean_dist\"])[-1].numpy()\n",
    "\n",
    "# Print the shapes\n",
    "print(f\"Num Heads: {num_heads}.\")\n",
    "\n",
    "plt.figure(figsize=(9, 9))\n",
    "\n",
    "for idx in range(len(mean_distances)):\n",
    "    mean_distance = mean_distances[f\"transformer_block_{idx}_att_mean_dist\"]\n",
    "    x = [idx] * num_heads\n",
    "    y = mean_distance[0, :]\n",
    "    plt.scatter(x=x, y=y, label=f\"transformer_block_{idx}\")\n",
    "\n",
    "plt.legend(loc=\"lower right\")\n",
    "plt.xlabel(\"Attention Head\", fontsize=14)\n",
    "plt.ylabel(\"Attention Distance\", fontsize=14)\n",
    "plt.title(\"my_model\", fontsize=14)\n",
    "plt.grid()\n",
    "plt.show()"
   ]
  },
  {
   "cell_type": "code",
   "execution_count": 48,
   "id": "86dde909",
   "metadata": {},
   "outputs": [],
   "source": [
    "def compute_distance_matrix(patch_size, num_patches, length):\n",
    "    distance_matrix = np.zeros((num_patches, num_patches))\n",
    "    for i in range(num_patches):\n",
    "        for j in range(num_patches):\n",
    "            if i == j:  # zero distance\n",
    "                continue\n",
    "\n",
    "            xi, yi = (int(i / length)), (i % length)\n",
    "            xj, yj = (int(j / length)), (j % length)\n",
    "            distance_matrix[i, j] = patch_size * np.linalg.norm([xi - xj, yi - yj])\n",
    "\n",
    "    return distance_matrix\n",
    "\n",
    "\n",
    "def compute_mean_attention_dist(patch_size, attention_weights, model_type):\n",
    "    num_cls_tokens = 2 if \"distilled\" in model_type else 1\n",
    "\n",
    "    # The attention_weights shape = (batch, num_heads, num_patches, num_patches)\n",
    "    attention_weights = attention_weights[\n",
    "        ..., num_cls_tokens:, num_cls_tokens:\n",
    "    ]  # Removing the CLS token\n",
    "    num_patches = attention_weights.shape[-1]\n",
    "    length = int(np.sqrt(num_patches))\n",
    "    assert length**2 == num_patches, \"Num patches is not perfect square\"\n",
    "\n",
    "    distance_matrix = compute_distance_matrix(patch_size, num_patches, length)\n",
    "    h, w = distance_matrix.shape\n",
    "\n",
    "    distance_matrix = distance_matrix.reshape((1, 1, h, w))\n",
    "    # The attention_weights along the last axis adds to 1\n",
    "    # this is due to the fact that they are softmax of the raw logits\n",
    "    # summation of the (attention_weights * distance_matrix)\n",
    "    # should result in an average distance per token.\n",
    "    mean_distances = attention_weights * distance_matrix\n",
    "    mean_distances = np.sum(\n",
    "        mean_distances, axis=-1\n",
    "    )  # Sum along last axis to get average distance per token\n",
    "    mean_distances = np.mean(\n",
    "        mean_distances, axis=-1\n",
    "    )  # Now average across all the tokens\n",
    "\n",
    "    return mean_distances\n"
   ]
  },
  {
   "cell_type": "code",
   "execution_count": 49,
   "id": "3d31ea22",
   "metadata": {},
   "outputs": [],
   "source": [
    "def attention_heatmap(attention_score_dict, image, model_type=\"dino\"):\n",
    "    num_tokens = 2 if \"distilled\" in model_type else 1\n",
    "\n",
    "    # Sort the Transformer blocks in order of their depth.\n",
    "    attention_score_list = list(attention_score_dict.keys())\n",
    "    attention_score_list.sort(key=lambda x: int(x.split(\"_\")[-2]), reverse=True)\n",
    "    \n",
    "    #print(attention_score_list)\n",
    "\n",
    "    # Process the attention maps for overlay.\n",
    "    #print(image.shape) # [1,64,64,3]\n",
    "    \n",
    "    w_featmap = image.shape[2] // PATCH_SIZE # 8\n",
    "    h_featmap = image.shape[1] // PATCH_SIZE # 8\n",
    "\n",
    "    attention_scores = attention_score_dict[attention_score_list[0]] # gives the attention scores of all heads from the last block\n",
    "    \n",
    "    #print(attention_scores.shape) # [1,6,65,65] at this point we still have the cls tokens attached to patches\n",
    "    \n",
    "    # Taking the representations from CLS token.\n",
    "    attentions = attention_scores[0, :, 0, num_tokens:].reshape(num_heads, -1)\n",
    "    '''\n",
    "    Here, attention_scores is a tensor of shape [1, 6, 65, 65], \n",
    "    so attention_scores[0, :, 0, num_tokens:] selects a sub-tensor \n",
    "    of shape [6, 65-num_tokens, 65-num_tokens]. The first dimension\n",
    "    (batch) is fixed at 0 because there is only one example in the\n",
    "    batch. The second dimension (number of heads) is selected \n",
    "    entirely by the : operator, so all heads are included \n",
    "    (in the plotting function, heads are indexed). The \n",
    "    third dimension (source patches) is fixed at 0, so the attention\n",
    "    scores are only computed between the first patch and the remaining\n",
    "    patches. The fourth dimension (target patches) is sliced starting \n",
    "    from index num_tokens to the end, so the attention scores are only\n",
    "    computed between the num_tokens-th patch and the remaining patches.\n",
    "    '''\n",
    "    #print(\"after reshaping - \", attentions.shape) # [6,64] \n",
    "    \n",
    "    # Reshape the attention scores to resemble mini patches.\n",
    "    attentions = attentions.reshape(num_heads, w_featmap, h_featmap)\n",
    "    #print(attentions.shape) # [6,8,8]\n",
    "    \n",
    "    attentions = attentions.transpose((1, 2, 0))\n",
    "    #print(attentions.shape) # [8,8,6]\n",
    "    \n",
    "    # Resize the attention patches to 224x224 (224: 14x16).\n",
    "    attentions = tf.image.resize(\n",
    "        attentions, size=(h_featmap * PATCH_SIZE, w_featmap * PATCH_SIZE)\n",
    "    )\n",
    "    #print(attentions.shape) # [64,64,6]\n",
    "    return attentions"
   ]
  },
  {
   "cell_type": "markdown",
   "id": "f15a8ed5",
   "metadata": {},
   "source": [
    "## Load Test Image\n",
    "#### This image will be used as the background for the heatmaps"
   ]
  },
  {
   "cell_type": "code",
   "execution_count": 50,
   "id": "f55c558d",
   "metadata": {},
   "outputs": [
    {
     "data": {
      "image/png": "[encoded data removed]",
      "text/plain": [
       "<Figure size 640x480 with 1 Axes>"
      ]
     },
     "metadata": {},
     "output_type": "display_data"
    }
   ],
   "source": [
    "image, preprocessed_image = load_image_from_url(image_path, model_type=\"original_vit\")\n",
    "\n",
    "plt.imshow(image)\n",
    "plt.axis(\"off\")\n",
    "plt.show()"
   ]
  },
  {
   "cell_type": "code",
   "execution_count": 51,
   "id": "6617488c",
   "metadata": {},
   "outputs": [
    {
     "data": {
      "image/png": "[encoded data removed]",
      "text/plain": [
       "<Figure size 900x900 with 9 Axes>"
      ]
     },
     "metadata": {},
     "output_type": "display_data"
    }
   ],
   "source": [
    "# EXAMPLE FOR 3 ATTENTION HEADS NETWORK\n",
    "\n",
    "# De-normalize the image for visual clarity.\n",
    "in1k_mean = tf.constant([0.485 * 255, 0.456 * 255, 0.406 * 255])\n",
    "in1k_std = tf.constant([0.229 * 255, 0.224 * 255, 0.225 * 255])\n",
    "preprocessed_img_orig = (preprocessed_image * in1k_std) + in1k_mean\n",
    "preprocessed_img_orig = preprocessed_img_orig / 255.0\n",
    "preprocessed_img_orig = tf.clip_by_value(preprocessed_img_orig, 0.0, 1.0).numpy()\n",
    "\n",
    "# Generate the attention heatmaps.\n",
    "attentions = attention_heatmap(w_dict, preprocessed_img_orig)\n",
    "\n",
    "# Plot the maps.\n",
    "fig, axes = plt.subplots(nrows=3, ncols=3, figsize=(9, 9))\n",
    "img_count = 0\n",
    "\n",
    "for i in range(1):\n",
    "    for j in range(3):\n",
    "        if img_count < len(attentions):\n",
    "            axes[i, j].imshow(preprocessed_img_orig[0])\n",
    "            axes[i, j].imshow(attentions[..., img_count], cmap=\"inferno\", alpha=0.7)\n",
    "            axes[i, j].title.set_text(f\"Head: {img_count}\")\n",
    "            axes[i, j].axis(\"off\")\n",
    "            img_count += 1"
   ]
  },
  {
   "cell_type": "code",
   "execution_count": null,
   "id": "1adb94f2",
   "metadata": {},
   "outputs": [],
   "source": []
  }
 ],
 "metadata": {
  "kernelspec": {
   "display_name": "Python 3 (ipykernel)",
   "language": "python",
   "name": "python3"
  },
  "language_info": {
   "codemirror_mode": {
    "name": "ipython",
    "version": 3
   },
   "file_extension": ".py",
   "mimetype": "text/x-python",
   "name": "python",
   "nbconvert_exporter": "python",
   "pygments_lexer": "ipython3",
   "version": "3.8.10"
  }
 },
 "nbformat": 4,
 "nbformat_minor": 5
}
